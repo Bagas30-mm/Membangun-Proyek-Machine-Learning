{
  "nbformat": 4,
  "nbformat_minor": 0,
  "metadata": {
    "colab": {
      "provenance": []
    },
    "kernelspec": {
      "name": "python3",
      "display_name": "Python 3"
    },
    "language_info": {
      "name": "python"
    }
  },
  "cells": [
    {
      "cell_type": "markdown",
      "source": [
        "# **1. Import Library**"
      ],
      "metadata": {
        "id": "fKADPWcFKlj3"
      }
    },
    {
      "cell_type": "markdown",
      "source": [
        "Pada tahap ini, Anda perlu mengimpor beberapa pustaka (library) Python yang dibutuhkan untuk analisis data dan pembangunan model machine learning."
      ],
      "metadata": {
        "id": "LgA3ERnVn84N"
      }
    },
    {
      "cell_type": "code",
      "source": [
        "# Import pustaka utama untuk manipulasi data dan visualisasi\n",
        "import pandas as pd\n",
        "import numpy as np\n",
        "import seaborn as sns\n",
        "import matplotlib.pyplot as plt\n",
        "\n",
        "# Import modul dari Scikit-learn untuk preprocessing, model, evaluasi, dan validasi\n",
        "from sklearn.preprocessing import StandardScaler\n",
        "from sklearn.model_selection import train_test_split, StratifiedKFold, GridSearchCV, cross_val_score\n",
        "from sklearn.metrics import accuracy_score, f1_score, confusion_matrix, classification_report\n",
        "\n",
        "# Import beberapa algoritma klasifikasi yang digunakan\n",
        "from sklearn.linear_model import LogisticRegression\n",
        "from sklearn.ensemble import RandomForestClassifier\n",
        "from sklearn.tree import DecisionTreeClassifier\n",
        "from sklearn.svm import SVC\n",
        "from sklearn.neighbors import KNeighborsClassifier\n"
      ],
      "metadata": {
        "id": "BlmvjLY9M4Yj"
      },
      "execution_count": 15,
      "outputs": []
    },
    {
      "cell_type": "markdown",
      "source": [
        "# **2. Memuat Dataset dari Hasil Clustering**"
      ],
      "metadata": {
        "id": "f3YIEnAFKrKL"
      }
    },
    {
      "cell_type": "markdown",
      "source": [
        "Memuat dataset hasil clustering dari file CSV ke dalam variabel DataFrame."
      ],
      "metadata": {
        "id": "Ey3ItwTen_7E"
      }
    },
    {
      "cell_type": "code",
      "source": [
        "# Memuat dataset dari hasil clustering\n",
        "from google.colab import drive\n",
        "drive.mount('/content/drive')\n",
        "df = pd.read_csv('/content/drive/MyDrive/Submission Akhir BMLP/Hasil_data_clustering(1).csv')\n",
        "df\n",
        "\n",
        "print(df.head())"
      ],
      "metadata": {
        "id": "GHCGNTyrM5fS",
        "outputId": "4d2637e5-1faf-4e6e-e0b9-52c0670dc08c",
        "colab": {
          "base_uri": "https://localhost:8080/"
        }
      },
      "execution_count": 16,
      "outputs": [
        {
          "output_type": "stream",
          "name": "stdout",
          "text": [
            "Drive already mounted at /content/drive; to attempt to forcibly remount, call drive.mount(\"/content/drive\", force_remount=True).\n",
            "   BHK   Rent  Size  Bathroom  Price per Square Foot  \\\n",
            "0    2  10000  1100         2                      9   \n",
            "1    2  20000   800         1                     25   \n",
            "2    2  17000  1000         1                     17   \n",
            "3    2  10000   800         1                     12   \n",
            "4    2   7500   850         1                      8   \n",
            "\n",
            "   Furnishing Status_Semi-Furnished  Furnishing Status_Unfurnished  \\\n",
            "0                                 0                              1   \n",
            "1                                 1                              0   \n",
            "2                                 1                              0   \n",
            "3                                 0                              1   \n",
            "4                                 0                              1   \n",
            "\n",
            "   Area Type_Carpet Area  Area Type_Super Area  City_Chennai  City_Delhi  \\\n",
            "0                      0                     1             0           0   \n",
            "1                      0                     1             0           0   \n",
            "2                      0                     1             0           0   \n",
            "3                      0                     1             0           0   \n",
            "4                      1                     0             0           0   \n",
            "\n",
            "   City_Hyderabad  City_Kolkata  City_Mumbai  \\\n",
            "0               0             1            0   \n",
            "1               0             1            0   \n",
            "2               0             1            0   \n",
            "3               0             1            0   \n",
            "4               0             1            0   \n",
            "\n",
            "   Tenant Preferred_Bachelors/Family  Tenant Preferred_Family  Cluster  \n",
            "0                                  1                        0        0  \n",
            "1                                  1                        0        0  \n",
            "2                                  1                        0        0  \n",
            "3                                  1                        0        0  \n",
            "4                                  0                        0        0  \n"
          ]
        }
      ]
    },
    {
      "cell_type": "markdown",
      "source": [
        "# **3. Data Splitting**"
      ],
      "metadata": {
        "id": "KkPem5eWL2UP"
      }
    },
    {
      "cell_type": "markdown",
      "source": [
        "Tahap Data Splitting bertujuan untuk memisahkan dataset menjadi dua bagian: data latih (training set) dan data uji (test set)."
      ],
      "metadata": {
        "id": "YYj1rl_JNI9Y"
      }
    },
    {
      "cell_type": "code",
      "source": [
        "# Memisahkan fitur dan label dari dataset\n",
        "fitur = df.drop(columns='Cluster')\n",
        "label = df['Cluster']\n",
        "\n",
        "# Membagi dataset menjadi data latih dan data uji (80:20)\n",
        "X_train, X_test, y_train, y_test = train_test_split(\n",
        "    fitur, label, test_size=0.2, random_state=42\n",
        ")\n",
        "\n",
        "# Melakukan standardisasi pada data fitur\n",
        "normalizer = StandardScaler()\n",
        "X_train_scaled = normalizer.fit_transform(X_train)\n",
        "X_test_scaled = normalizer.transform(X_test)\n",
        "\n",
        "# Menampilkan dimensi hasil transformasi\n",
        "print(f\"Ukuran data latih (X_train): {X_train_scaled.shape}\")\n",
        "print(f\"Ukuran data uji (X_test): {X_test_scaled.shape}\")\n"
      ],
      "metadata": {
        "id": "OubAW-7ONKVj",
        "outputId": "bcd8a263-29ba-4057-c53f-3fb26698232c",
        "colab": {
          "base_uri": "https://localhost:8080/"
        }
      },
      "execution_count": 17,
      "outputs": [
        {
          "output_type": "stream",
          "name": "stdout",
          "text": [
            "Ukuran data latih (X_train): (3796, 16)\n",
            "Ukuran data uji (X_test): (950, 16)\n"
          ]
        }
      ]
    },
    {
      "cell_type": "markdown",
      "source": [
        "# **4. Membangun Model Klasifikasi**\n"
      ],
      "metadata": {
        "id": "IVPbB03CMhTT"
      }
    },
    {
      "cell_type": "markdown",
      "source": [
        "## **a. Membangun Model Klasifikasi**"
      ],
      "metadata": {
        "id": "Ned1pL9zMmBK"
      }
    },
    {
      "cell_type": "markdown",
      "source": [
        "Setelah memilih algoritma klasifikasi yang sesuai, langkah selanjutnya adalah melatih model menggunakan data latih.\n",
        "\n",
        "Berikut adalah rekomendasi tahapannya.\n",
        "1. Pilih algoritma klasifikasi yang sesuai, seperti Logistic Regression, Decision Tree, Random Forest, atau K-Nearest Neighbors (KNN).\n",
        "2. Latih model menggunakan data latih."
      ],
      "metadata": {
        "id": "WAWzPOE4Nkti"
      }
    },
    {
      "cell_type": "code",
      "source": [
        "# Membuat objek model dari berbagai algoritma klasifikasi\n",
        "model_lr = LogisticRegression(max_iter=1000, random_state=42)\n",
        "model_rf = RandomForestClassifier(random_state=42)\n",
        "model_dt = DecisionTreeClassifier(random_state=42)\n",
        "model_svm = SVC(random_state=42)\n",
        "model_knn = KNeighborsClassifier()\n",
        "\n",
        "# Melatih semua model dengan data training\n",
        "model_lr.fit(X_train_scaled, y_train)\n",
        "model_rf.fit(X_train_scaled, y_train)\n",
        "model_dt.fit(X_train_scaled, y_train)\n",
        "model_svm.fit(X_train_scaled, y_train)\n",
        "model_knn.fit(X_train_scaled, y_train)\n",
        "\n",
        "# Melakukan prediksi pada data uji\n",
        "pred_lr = model_lr.predict(X_test_scaled)\n",
        "pred_rf = model_rf.predict(X_test_scaled)\n",
        "pred_dt = model_dt.predict(X_test_scaled)\n",
        "pred_svm = model_svm.predict(X_test_scaled)\n",
        "pred_knn = model_knn.predict(X_test_scaled)\n"
      ],
      "metadata": {
        "id": "4JYxBe87NLDk"
      },
      "execution_count": 18,
      "outputs": []
    },
    {
      "cell_type": "markdown",
      "source": [
        "Tulis narasi atau penjelasan algoritma yang Anda gunakan."
      ],
      "metadata": {
        "id": "seYoHNY3XU1y"
      }
    },
    {
      "cell_type": "markdown",
      "source": [
        "## **b. Evaluasi Model Klasifikasi**"
      ],
      "metadata": {
        "id": "ergzChZFEL-O"
      }
    },
    {
      "cell_type": "markdown",
      "source": [
        "Berikut adalah **rekomendasi** tahapannya.\n",
        "1. Lakukan prediksi menggunakan data uji.\n",
        "2. Hitung metrik evaluasi seperti Accuracy dan F1-Score (Opsional: Precision dan Recall).\n",
        "3. Buat confusion matrix untuk melihat detail prediksi benar dan salah."
      ],
      "metadata": {
        "id": "zOm68u-7NpLT"
      }
    },
    {
      "cell_type": "code",
      "source": [
        "def tampilkan_evaluasi(y_actual, y_prediksi, nama_model):\n",
        "    print(f\"\\nHasil Evaluasi Model: {nama_model} (Pra-Tuning)\")\n",
        "    print(f\"Akurasi       : {accuracy_score(y_actual, y_prediksi):.4f}\")\n",
        "    print(f\"Skor F1 (rata): {f1_score(y_actual, y_prediksi, average='weighted'):.4f}\")\n",
        "    print(\"Matriks Kebingungan:\")\n",
        "    print(confusion_matrix(y_actual, y_prediksi))\n",
        "    print(\"Laporan Klasifikasi:\")\n",
        "    print(classification_report(y_actual, y_prediksi))\n",
        "\n",
        "# Menjalankan evaluasi untuk tiap model yang telah dilatih\n",
        "tampilkan_evaluasi(y_test, pred_lr, \"Logistic Regression\")\n",
        "tampilkan_evaluasi(y_test, pred_rf, \"Random Forest\")\n",
        "tampilkan_evaluasi(y_test, pred_dt, \"Decision Tree\")\n",
        "tampilkan_evaluasi(y_test, pred_svm, \"Support Vector Machine\")\n",
        "tampilkan_evaluasi(y_test, pred_knn, \"K-Nearest Neighbors\")\n"
      ],
      "metadata": {
        "id": "tMq4QAssNLip",
        "outputId": "35a36c74-44ae-4a90-8481-58d6fd99e9e7",
        "colab": {
          "base_uri": "https://localhost:8080/"
        }
      },
      "execution_count": 19,
      "outputs": [
        {
          "output_type": "stream",
          "name": "stdout",
          "text": [
            "\n",
            "Hasil Evaluasi Model: Logistic Regression (Pra-Tuning)\n",
            "Akurasi       : 0.9979\n",
            "Skor F1 (rata): 0.9981\n",
            "Matriks Kebingungan:\n",
            "[[893   0   0]\n",
            " [  1  54   1]\n",
            " [  0   0   1]]\n",
            "Laporan Klasifikasi:\n",
            "              precision    recall  f1-score   support\n",
            "\n",
            "           0       1.00      1.00      1.00       893\n",
            "           1       1.00      0.96      0.98        56\n",
            "           2       0.50      1.00      0.67         1\n",
            "\n",
            "    accuracy                           1.00       950\n",
            "   macro avg       0.83      0.99      0.88       950\n",
            "weighted avg       1.00      1.00      1.00       950\n",
            "\n",
            "\n",
            "Hasil Evaluasi Model: Random Forest (Pra-Tuning)\n",
            "Akurasi       : 1.0000\n",
            "Skor F1 (rata): 1.0000\n",
            "Matriks Kebingungan:\n",
            "[[893   0   0]\n",
            " [  0  56   0]\n",
            " [  0   0   1]]\n",
            "Laporan Klasifikasi:\n",
            "              precision    recall  f1-score   support\n",
            "\n",
            "           0       1.00      1.00      1.00       893\n",
            "           1       1.00      1.00      1.00        56\n",
            "           2       1.00      1.00      1.00         1\n",
            "\n",
            "    accuracy                           1.00       950\n",
            "   macro avg       1.00      1.00      1.00       950\n",
            "weighted avg       1.00      1.00      1.00       950\n",
            "\n",
            "\n",
            "Hasil Evaluasi Model: Decision Tree (Pra-Tuning)\n",
            "Akurasi       : 1.0000\n",
            "Skor F1 (rata): 1.0000\n",
            "Matriks Kebingungan:\n",
            "[[893   0   0]\n",
            " [  0  56   0]\n",
            " [  0   0   1]]\n",
            "Laporan Klasifikasi:\n",
            "              precision    recall  f1-score   support\n",
            "\n",
            "           0       1.00      1.00      1.00       893\n",
            "           1       1.00      1.00      1.00        56\n",
            "           2       1.00      1.00      1.00         1\n",
            "\n",
            "    accuracy                           1.00       950\n",
            "   macro avg       1.00      1.00      1.00       950\n",
            "weighted avg       1.00      1.00      1.00       950\n",
            "\n",
            "\n",
            "Hasil Evaluasi Model: Support Vector Machine (Pra-Tuning)\n",
            "Akurasi       : 0.9916\n",
            "Skor F1 (rata): 0.9909\n",
            "Matriks Kebingungan:\n",
            "[[892   1   0]\n",
            " [  6  50   0]\n",
            " [  1   0   0]]\n",
            "Laporan Klasifikasi:\n",
            "              precision    recall  f1-score   support\n",
            "\n",
            "           0       0.99      1.00      1.00       893\n",
            "           1       0.98      0.89      0.93        56\n",
            "           2       0.00      0.00      0.00         1\n",
            "\n",
            "    accuracy                           0.99       950\n",
            "   macro avg       0.66      0.63      0.64       950\n",
            "weighted avg       0.99      0.99      0.99       950\n",
            "\n",
            "\n",
            "Hasil Evaluasi Model: K-Nearest Neighbors (Pra-Tuning)\n",
            "Akurasi       : 0.9884\n",
            "Skor F1 (rata): 0.9879\n",
            "Matriks Kebingungan:\n",
            "[[892   1   0]\n",
            " [ 10  46   0]\n",
            " [  0   0   1]]\n",
            "Laporan Klasifikasi:\n",
            "              precision    recall  f1-score   support\n",
            "\n",
            "           0       0.99      1.00      0.99       893\n",
            "           1       0.98      0.82      0.89        56\n",
            "           2       1.00      1.00      1.00         1\n",
            "\n",
            "    accuracy                           0.99       950\n",
            "   macro avg       0.99      0.94      0.96       950\n",
            "weighted avg       0.99      0.99      0.99       950\n",
            "\n"
          ]
        },
        {
          "output_type": "stream",
          "name": "stderr",
          "text": [
            "/usr/local/lib/python3.11/dist-packages/sklearn/metrics/_classification.py:1565: UndefinedMetricWarning: Precision is ill-defined and being set to 0.0 in labels with no predicted samples. Use `zero_division` parameter to control this behavior.\n",
            "  _warn_prf(average, modifier, f\"{metric.capitalize()} is\", len(result))\n",
            "/usr/local/lib/python3.11/dist-packages/sklearn/metrics/_classification.py:1565: UndefinedMetricWarning: Precision is ill-defined and being set to 0.0 in labels with no predicted samples. Use `zero_division` parameter to control this behavior.\n",
            "  _warn_prf(average, modifier, f\"{metric.capitalize()} is\", len(result))\n",
            "/usr/local/lib/python3.11/dist-packages/sklearn/metrics/_classification.py:1565: UndefinedMetricWarning: Precision is ill-defined and being set to 0.0 in labels with no predicted samples. Use `zero_division` parameter to control this behavior.\n",
            "  _warn_prf(average, modifier, f\"{metric.capitalize()} is\", len(result))\n"
          ]
        }
      ]
    },
    {
      "cell_type": "markdown",
      "source": [
        "Tulis hasil evaluasi algoritma yang digunakan, jika Anda menggunakan 2 algoritma, maka bandingkan hasilnya."
      ],
      "metadata": {
        "id": "H4_9OwrsXZlz"
      }
    },
    {
      "cell_type": "markdown",
      "source": [
        "## **c. Tuning Model Klasifikasi (Optional)**"
      ],
      "metadata": {
        "id": "ph9yIYDXEPuB"
      }
    },
    {
      "cell_type": "markdown",
      "source": [
        "Gunakan GridSearchCV, RandomizedSearchCV, atau metode lainnya untuk mencari kombinasi hyperparameter terbaik"
      ],
      "metadata": {
        "id": "-Bikx3LINv5e"
      }
    },
    {
      "cell_type": "code",
      "source": [
        "# Konfigurasi Stratified K-Fold Cross-Validation (5 bagian dengan data teracak)\n",
        "stratified_cv = StratifiedKFold(n_splits=5, shuffle=True, random_state=42)\n"
      ],
      "metadata": {
        "id": "winbFzb8NL95"
      },
      "execution_count": 20,
      "outputs": []
    },
    {
      "cell_type": "code",
      "source": [
        "# Fungsi untuk melakukan pencarian kombinasi parameter terbaik\n",
        "def optimasi_model(model_klasifikasi, grid_param, data_latih, target_latih, cv_strategy):\n",
        "    pencarian = GridSearchCV(estimator=model_klasifikasi, param_grid=grid_param,\n",
        "                             cv=cv_strategy, scoring='accuracy')\n",
        "    pencarian.fit(data_latih, target_latih)\n",
        "    return pencarian.best_estimator_\n",
        "\n",
        "# Grid parameter untuk masing-masing model\n",
        "grid_logreg = {\n",
        "    'C': [0.001, 0.01, 0.1, 1, 10],\n",
        "    'penalty': ['l1', 'l2']\n",
        "}\n",
        "logreg_optimal = optimasi_model(\n",
        "    LogisticRegression(random_state=42, max_iter=2000, solver='liblinear'),\n",
        "    grid_logreg, X_train, y_train, stratified_cv\n",
        ")\n",
        "\n",
        "grid_rf = {\n",
        "    'n_estimators': [50, 100, 200],\n",
        "    'max_depth': [10, 20, 30, None],\n",
        "    'min_samples_split': [2, 5, 10],\n",
        "    'min_samples_leaf': [1, 2, 4]\n",
        "}\n",
        "rf_optimal = optimasi_model(RandomForestClassifier(random_state=42), grid_rf, X_train, y_train, stratified_cv)\n",
        "\n",
        "grid_dt = {\n",
        "    'max_depth': [10, 20, 30, None],\n",
        "    'min_samples_split': [2, 5, 10],\n",
        "    'min_samples_leaf': [1, 2, 4]\n",
        "}\n",
        "dt_optimal = optimasi_model(DecisionTreeClassifier(random_state=42), grid_dt, X_train, y_train, stratified_cv)\n",
        "\n",
        "grid_svm = {\n",
        "    'C': [0.1, 1, 10],\n",
        "    'kernel': ['linear', 'rbf']\n",
        "}\n",
        "svm_optimal = optimasi_model(SVC(random_state=42), grid_svm, X_train, y_train, stratified_cv)\n",
        "\n",
        "grid_knn = {\n",
        "    'n_neighbors': [3, 5, 7],\n",
        "    'weights': ['uniform', 'distance']\n",
        "}\n",
        "knn_optimal = optimasi_model(KNeighborsClassifier(), grid_knn, X_train, y_train, stratified_cv)\n"
      ],
      "metadata": {
        "colab": {
          "base_uri": "https://localhost:8080/"
        },
        "id": "0RmZHaM-7_HV",
        "outputId": "c9e89ef9-519c-434c-fb60-fdd743a4ac89"
      },
      "execution_count": 21,
      "outputs": [
        {
          "output_type": "stream",
          "name": "stderr",
          "text": [
            "/usr/local/lib/python3.11/dist-packages/sklearn/model_selection/_split.py:805: UserWarning: The least populated class in y has only 1 members, which is less than n_splits=5.\n",
            "  warnings.warn(\n",
            "/usr/local/lib/python3.11/dist-packages/sklearn/model_selection/_split.py:805: UserWarning: The least populated class in y has only 1 members, which is less than n_splits=5.\n",
            "  warnings.warn(\n",
            "/usr/local/lib/python3.11/dist-packages/sklearn/model_selection/_split.py:805: UserWarning: The least populated class in y has only 1 members, which is less than n_splits=5.\n",
            "  warnings.warn(\n",
            "/usr/local/lib/python3.11/dist-packages/sklearn/model_selection/_split.py:805: UserWarning: The least populated class in y has only 1 members, which is less than n_splits=5.\n",
            "  warnings.warn(\n",
            "/usr/local/lib/python3.11/dist-packages/sklearn/model_selection/_split.py:805: UserWarning: The least populated class in y has only 1 members, which is less than n_splits=5.\n",
            "  warnings.warn(\n"
          ]
        }
      ]
    },
    {
      "cell_type": "markdown",
      "source": [
        "## **d. Evaluasi Model Klasifikasi setelah Tuning (Optional)**"
      ],
      "metadata": {
        "id": "hE7pqlEPEYzI"
      }
    },
    {
      "cell_type": "markdown",
      "source": [
        "Berikut adalah rekomendasi tahapannya.\n",
        "1. Gunakan model dengan hyperparameter terbaik.\n",
        "2. Hitung ulang metrik evaluasi untuk melihat apakah ada peningkatan performa."
      ],
      "metadata": {
        "id": "feaPESoeN0zz"
      }
    },
    {
      "cell_type": "code",
      "source": [
        "# Fungsi untuk mengevaluasi model yang telah di-tuning\n",
        "def tampilkan_evaluasi_setelah_tuning(y_actual, model_optimal, nama_model):\n",
        "    prediksi_terbaik = model_optimal.predict(X_test)\n",
        "    print(f\"\\nEvaluasi {nama_model} (Setelah Tuning):\")\n",
        "    print(f\"Akurasi       : {accuracy_score(y_actual, prediksi_terbaik):.4f}\")\n",
        "    print(f\"Skor F1 (rata): {f1_score(y_actual, prediksi_terbaik, average='weighted'):.4f}\")\n",
        "    print(\"Matriks Kebingungan:\")\n",
        "    print(confusion_matrix(y_actual, prediksi_terbaik))\n",
        "    print(\"Laporan Klasifikasi:\")\n",
        "    print(classification_report(y_actual, prediksi_terbaik))\n",
        "\n",
        "# Evaluasi hasil tuning pada setiap model\n",
        "tampilkan_evaluasi_setelah_tuning(y_test, logreg_optimal, \"Logistic Regression\")\n",
        "tampilkan_evaluasi_setelah_tuning(y_test, rf_optimal, \"Random Forest\")\n",
        "tampilkan_evaluasi_setelah_tuning(y_test, dt_optimal, \"Decision Tree\")\n",
        "tampilkan_evaluasi_setelah_tuning(y_test, svm_optimal, \"Support Vector Machine\")\n",
        "tampilkan_evaluasi_setelah_tuning(y_test, knn_optimal, \"K-Nearest Neighbors\")\n"
      ],
      "metadata": {
        "id": "HTXZRvEeNMb1",
        "colab": {
          "base_uri": "https://localhost:8080/"
        },
        "outputId": "5613b17c-3ce2-46bc-a1f6-580308e47dbe"
      },
      "execution_count": 22,
      "outputs": [
        {
          "output_type": "stream",
          "name": "stdout",
          "text": [
            "\n",
            "Evaluasi Logistic Regression (Setelah Tuning):\n",
            "Akurasi       : 1.0000\n",
            "Skor F1 (rata): 1.0000\n",
            "Matriks Kebingungan:\n",
            "[[893   0   0]\n",
            " [  0  56   0]\n",
            " [  0   0   1]]\n",
            "Laporan Klasifikasi:\n",
            "              precision    recall  f1-score   support\n",
            "\n",
            "           0       1.00      1.00      1.00       893\n",
            "           1       1.00      1.00      1.00        56\n",
            "           2       1.00      1.00      1.00         1\n",
            "\n",
            "    accuracy                           1.00       950\n",
            "   macro avg       1.00      1.00      1.00       950\n",
            "weighted avg       1.00      1.00      1.00       950\n",
            "\n",
            "\n",
            "Evaluasi Random Forest (Setelah Tuning):\n",
            "Akurasi       : 1.0000\n",
            "Skor F1 (rata): 1.0000\n",
            "Matriks Kebingungan:\n",
            "[[893   0   0]\n",
            " [  0  56   0]\n",
            " [  0   0   1]]\n",
            "Laporan Klasifikasi:\n",
            "              precision    recall  f1-score   support\n",
            "\n",
            "           0       1.00      1.00      1.00       893\n",
            "           1       1.00      1.00      1.00        56\n",
            "           2       1.00      1.00      1.00         1\n",
            "\n",
            "    accuracy                           1.00       950\n",
            "   macro avg       1.00      1.00      1.00       950\n",
            "weighted avg       1.00      1.00      1.00       950\n",
            "\n",
            "\n",
            "Evaluasi Decision Tree (Setelah Tuning):\n",
            "Akurasi       : 1.0000\n",
            "Skor F1 (rata): 1.0000\n",
            "Matriks Kebingungan:\n",
            "[[893   0   0]\n",
            " [  0  56   0]\n",
            " [  0   0   1]]\n",
            "Laporan Klasifikasi:\n",
            "              precision    recall  f1-score   support\n",
            "\n",
            "           0       1.00      1.00      1.00       893\n",
            "           1       1.00      1.00      1.00        56\n",
            "           2       1.00      1.00      1.00         1\n",
            "\n",
            "    accuracy                           1.00       950\n",
            "   macro avg       1.00      1.00      1.00       950\n",
            "weighted avg       1.00      1.00      1.00       950\n",
            "\n",
            "\n",
            "Evaluasi Support Vector Machine (Setelah Tuning):\n",
            "Akurasi       : 1.0000\n",
            "Skor F1 (rata): 1.0000\n",
            "Matriks Kebingungan:\n",
            "[[893   0   0]\n",
            " [  0  56   0]\n",
            " [  0   0   1]]\n",
            "Laporan Klasifikasi:\n",
            "              precision    recall  f1-score   support\n",
            "\n",
            "           0       1.00      1.00      1.00       893\n",
            "           1       1.00      1.00      1.00        56\n",
            "           2       1.00      1.00      1.00         1\n",
            "\n",
            "    accuracy                           1.00       950\n",
            "   macro avg       1.00      1.00      1.00       950\n",
            "weighted avg       1.00      1.00      1.00       950\n",
            "\n",
            "\n",
            "Evaluasi K-Nearest Neighbors (Setelah Tuning):\n",
            "Akurasi       : 1.0000\n",
            "Skor F1 (rata): 1.0000\n",
            "Matriks Kebingungan:\n",
            "[[893   0   0]\n",
            " [  0  56   0]\n",
            " [  0   0   1]]\n",
            "Laporan Klasifikasi:\n",
            "              precision    recall  f1-score   support\n",
            "\n",
            "           0       1.00      1.00      1.00       893\n",
            "           1       1.00      1.00      1.00        56\n",
            "           2       1.00      1.00      1.00         1\n",
            "\n",
            "    accuracy                           1.00       950\n",
            "   macro avg       1.00      1.00      1.00       950\n",
            "weighted avg       1.00      1.00      1.00       950\n",
            "\n"
          ]
        }
      ]
    },
    {
      "source": [
        "# Fungsi untuk menghitung performa model menggunakan cross-validation\n",
        "def evaluasi_kinerja_cv(model_terbaik, X_data, y_data, skf_stratifikasi):\n",
        "    akurasi_cv = cross_val_score(model_terbaik, X_data, y_data, cv=skf_stratifikasi, scoring='accuracy')\n",
        "    f1_cv = cross_val_score(model_terbaik, X_data, y_data, cv=skf_stratifikasi, scoring='f1_weighted')\n",
        "    return akurasi_cv, f1_cv\n",
        "\n",
        "# Daftar model yang sudah dituning beserta nama-nama model\n",
        "# Use the variables assigned during model optimization\n",
        "list_model_tuned = [logreg_optimal, rf_optimal, dt_optimal, svm_optimal, knn_optimal]\n",
        "nama_model_tuned = [\"Logistic Regression\", \"Random Forest\", \"Decision Tree\", \"SVM\", \"K-Nearest Neighbors\"]\n",
        "\n",
        "# Assuming 'fitur' and 'label' from your original code are your features and target\n",
        "X = fitur  # Assign your feature data to X\n",
        "y = label  # Assign your target variable to y\n",
        "\n",
        "# Import and initialize StratifiedKFold if not already done\n",
        "\n",
        "skf = StratifiedKFold(n_splits=5, shuffle=True, random_state=42)\n",
        "\n",
        "# Menampilkan hasil cross-validation untuk setiap model\n",
        "for model, nama in zip(list_model_tuned, nama_model_tuned):\n",
        "    akurasi_cv, f1_cv = evaluasi_kinerja_cv(model, X, y, skf) # Now X, y, and skf are defined\n",
        "    print(f\"\\nHasil Cross-validation untuk {nama}:\")\n",
        "    print(f\"Akurasi    : {akurasi_cv.mean():.4f} ± {akurasi_cv.std():.4f}\")\n",
        "    print(f\"Skor F1    : {f1_cv.mean():.4f} ± {f1_cv.std():.4f}\")"
      ],
      "cell_type": "code",
      "metadata": {
        "colab": {
          "base_uri": "https://localhost:8080/"
        },
        "id": "eZ7lqy9Z-HIa",
        "outputId": "224a9687-c0f3-4db6-948b-bcf3d86c5591"
      },
      "execution_count": 23,
      "outputs": [
        {
          "output_type": "stream",
          "name": "stderr",
          "text": [
            "/usr/local/lib/python3.11/dist-packages/sklearn/model_selection/_split.py:805: UserWarning: The least populated class in y has only 1 members, which is less than n_splits=5.\n",
            "  warnings.warn(\n",
            "/usr/local/lib/python3.11/dist-packages/sklearn/model_selection/_split.py:805: UserWarning: The least populated class in y has only 1 members, which is less than n_splits=5.\n",
            "  warnings.warn(\n"
          ]
        },
        {
          "output_type": "stream",
          "name": "stdout",
          "text": [
            "\n",
            "Hasil Cross-validation untuk Logistic Regression:\n",
            "Akurasi    : 0.9970 ± 0.0015\n",
            "Skor F1    : 0.9961 ± 0.0020\n"
          ]
        },
        {
          "output_type": "stream",
          "name": "stderr",
          "text": [
            "/usr/local/lib/python3.11/dist-packages/sklearn/model_selection/_split.py:805: UserWarning: The least populated class in y has only 1 members, which is less than n_splits=5.\n",
            "  warnings.warn(\n",
            "/usr/local/lib/python3.11/dist-packages/sklearn/model_selection/_split.py:805: UserWarning: The least populated class in y has only 1 members, which is less than n_splits=5.\n",
            "  warnings.warn(\n"
          ]
        },
        {
          "output_type": "stream",
          "name": "stdout",
          "text": [
            "\n",
            "Hasil Cross-validation untuk Random Forest:\n",
            "Akurasi    : 0.9992 ± 0.0008\n",
            "Skor F1    : 0.9989 ± 0.0010\n",
            "\n",
            "Hasil Cross-validation untuk Decision Tree:\n",
            "Akurasi    : 0.9998 ± 0.0004\n",
            "Skor F1    : 0.9997 ± 0.0006\n"
          ]
        },
        {
          "output_type": "stream",
          "name": "stderr",
          "text": [
            "/usr/local/lib/python3.11/dist-packages/sklearn/model_selection/_split.py:805: UserWarning: The least populated class in y has only 1 members, which is less than n_splits=5.\n",
            "  warnings.warn(\n",
            "/usr/local/lib/python3.11/dist-packages/sklearn/model_selection/_split.py:805: UserWarning: The least populated class in y has only 1 members, which is less than n_splits=5.\n",
            "  warnings.warn(\n",
            "/usr/local/lib/python3.11/dist-packages/sklearn/model_selection/_split.py:805: UserWarning: The least populated class in y has only 1 members, which is less than n_splits=5.\n",
            "  warnings.warn(\n",
            "/usr/local/lib/python3.11/dist-packages/sklearn/model_selection/_split.py:805: UserWarning: The least populated class in y has only 1 members, which is less than n_splits=5.\n",
            "  warnings.warn(\n",
            "/usr/local/lib/python3.11/dist-packages/sklearn/model_selection/_split.py:805: UserWarning: The least populated class in y has only 1 members, which is less than n_splits=5.\n",
            "  warnings.warn(\n"
          ]
        },
        {
          "output_type": "stream",
          "name": "stdout",
          "text": [
            "\n",
            "Hasil Cross-validation untuk SVM:\n",
            "Akurasi    : 0.9998 ± 0.0004\n",
            "Skor F1    : 0.9997 ± 0.0006\n"
          ]
        },
        {
          "output_type": "stream",
          "name": "stderr",
          "text": [
            "/usr/local/lib/python3.11/dist-packages/sklearn/model_selection/_split.py:805: UserWarning: The least populated class in y has only 1 members, which is less than n_splits=5.\n",
            "  warnings.warn(\n"
          ]
        },
        {
          "output_type": "stream",
          "name": "stdout",
          "text": [
            "\n",
            "Hasil Cross-validation untuk K-Nearest Neighbors:\n",
            "Akurasi    : 0.9998 ± 0.0004\n",
            "Skor F1    : 0.9997 ± 0.0006\n"
          ]
        }
      ]
    },
    {
      "cell_type": "markdown",
      "source": [
        "## **e. Analisis Hasil Evaluasi Model Klasifikasi**"
      ],
      "metadata": {
        "id": "ZRsOdm4uEgAW"
      }
    },
    {
      "cell_type": "markdown",
      "source": [
        "Berikut adalah **rekomendasi** tahapannya.\n",
        "1. Bandingkan hasil evaluasi sebelum dan setelah tuning (jika dilakukan).\n",
        "2. Identifikasi kelemahan model, seperti:\n",
        "  - Precision atau Recall rendah untuk kelas tertentu.\n",
        "  - Apakah model mengalami overfitting atau underfitting?\n",
        "3. Berikan rekomendasi tindakan lanjutan, seperti mengumpulkan data tambahan atau mencoba algoritma lain jika hasil belum memuaskan."
      ],
      "metadata": {
        "id": "Hm3BhSi6N4_l"
      }
    },
    {
      "cell_type": "markdown",
      "source": [
        "\n",
        "#### 1. **Perbandingan Performa Model**\n",
        "- **Logistic Regression** mencatatkan akurasi sebesar **99.70%** dan nilai F1-Score **99.61%**.\n",
        "- **Random Forest** memperoleh akurasi **99.92%** dan F1-Score **99.89%**.\n",
        "- **Decision Tree** dan **Support Vector Machine (SVM)** sama-sama menunjukkan performa tertinggi, masing-masing dengan akurasi dan F1-Score mencapai **99.98%** dan **99.97%**.\n",
        "\n",
        "Secara keseluruhan, **Decision Tree dan SVM** memberikan hasil yang sangat konsisten dan unggul, dengan selisih performa yang tipis namun signifikan dibandingkan model lainnya. Meskipun Logistic Regression dan Random Forest sedikit tertinggal, keduanya tetap menunjukkan performa klasifikasi yang sangat baik.\n",
        "\n",
        "#### 2. **Potensi Kelemahan Model**\n",
        "- **Distribusi Kelas dan Bias**: Perlu dilakukan pengamatan lebih lanjut pada nilai **precision dan recall per kelas** untuk memastikan bahwa model tidak bias terhadap kelompok mayoritas, terutama jika terdapat kelas minoritas yang rawan salah klasifikasi.\n",
        "- **Overfitting/Underfitting**: Berdasarkan evaluasi **cross-validation**, tidak ditemukan indikasi yang kuat terhadap overfitting atau underfitting. Model seperti Decision Tree dan SVM menunjukkan kestabilan tinggi, sedangkan variasi hasil pada Logistic Regression dan Random Forest masih dalam batas yang dapat diterima.\n",
        "\n",
        "#### 3. **Saran Tindakan Selanjutnya**\n",
        "- **Penambahan Data**: Jika ditemukan ketidakseimbangan performa antar kelas, terutama pada kelas dengan jumlah data kecil, maka pengumpulan data tambahan untuk kelas tersebut sangat disarankan.\n",
        "- **Eksplorasi Algoritma Tambahan**: Pertimbangkan untuk mencoba algoritma canggih lainnya seperti **XGBoost** atau **LightGBM**, yang dikenal memiliki performa tinggi pada masalah klasifikasi dan juga mendukung teknik ensemble.\n",
        "- **Pemeriksaan Mendalam Precision dan Recall**: Dalam kasus di mana konsekuensi dari false positive atau false negative sangat penting, analisis mendalam terhadap precision dan recall tiap kelas perlu dilakukan.\n",
        "- **Optimasi Hyperparameter Lebih Lanjut**: Walaupun sudah dilakukan tuning awal, proses **penyesuaian hyperparameter** lebih lanjut menggunakan teknik seperti **RandomizedSearchCV** mungkin memberikan peningkatan performa terutama pada model seperti Random Forest dan SVM.\n",
        "\n"
      ],
      "metadata": {
        "id": "C1p-IMm3_ByA"
      }
    }
  ]
}